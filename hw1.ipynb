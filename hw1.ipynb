{
 "cells": [
  {
   "cell_type": "code",
   "execution_count": 1,
   "metadata": {},
   "outputs": [],
   "source": [
    "from IPython.core.magic import (register_line_magic, register_cell_magic,\n",
    "                                register_line_cell_magic)\n",
    "import numpy as np"
   ]
  },
  {
   "cell_type": "markdown",
   "metadata": {},
   "source": [
    "## 1.2 write a python magic"
   ]
  },
  {
   "cell_type": "code",
   "execution_count": 2,
   "metadata": {},
   "outputs": [],
   "source": [
    "@register_line_cell_magic\n",
    "def countwords(line, cell = None):\n",
    "    '''magic that count the words'''\n",
    "    print('count how many word we have got:')\n",
    "    if (cell == None):\n",
    "        print('using line magic:')\n",
    "        return len(line.split())\n",
    "    else:\n",
    "        print('using cell magic:')\n",
    "        return len(line.split() + cell.split())"
   ]
  },
  {
   "cell_type": "code",
   "execution_count": 3,
   "metadata": {},
   "outputs": [
    {
     "name": "stdout",
     "output_type": "stream",
     "text": [
      "count how many word we have got:\n",
      "using line magic:\n"
     ]
    },
    {
     "data": {
      "text/plain": [
       "5"
      ]
     },
     "execution_count": 3,
     "metadata": {},
     "output_type": "execute_result"
    }
   ],
   "source": [
    "%countwords this is a line magic"
   ]
  },
  {
   "cell_type": "code",
   "execution_count": 4,
   "metadata": {},
   "outputs": [
    {
     "name": "stdout",
     "output_type": "stream",
     "text": [
      "count how many word we have got:\n",
      "using cell magic:\n"
     ]
    },
    {
     "data": {
      "text/plain": [
       "13"
      ]
     },
     "execution_count": 4,
     "metadata": {},
     "output_type": "execute_result"
    }
   ],
   "source": [
    "%%countwords\n",
    "this is not only a line magic\n",
    "this is a cell magic magic"
   ]
  },
  {
   "cell_type": "markdown",
   "metadata": {},
   "source": [
    "## 1.3 Profile the speed of list comprehension vs. for loops"
   ]
  },
  {
   "cell_type": "code",
   "execution_count": 5,
   "metadata": {},
   "outputs": [],
   "source": [
    "# define a list with large size\n",
    "long_list_1 = [1] * 10000000\n",
    "long_list_2 = [1] * 10000000"
   ]
  },
  {
   "cell_type": "code",
   "execution_count": 6,
   "metadata": {},
   "outputs": [
    {
     "name": "stdout",
     "output_type": "stream",
     "text": [
      "Wall time: 2.6 s\n"
     ]
    }
   ],
   "source": [
    "%%time\n",
    "# using list comprehension to get the new list\n",
    "for i in range(len(long_list_1)):\n",
    "    long_list_1[i] *= 2"
   ]
  },
  {
   "cell_type": "code",
   "execution_count": 7,
   "metadata": {},
   "outputs": [
    {
     "name": "stdout",
     "output_type": "stream",
     "text": [
      "Wall time: 1.5 s\n"
     ]
    }
   ],
   "source": [
    "%%time\n",
    "long_list_2 = [2 * x for x in long_list_2]"
   ]
  },
  {
   "cell_type": "markdown",
   "metadata": {},
   "source": [
    "## 1.4 Prime numbers"
   ]
  },
  {
   "cell_type": "code",
   "execution_count": 8,
   "metadata": {},
   "outputs": [],
   "source": [
    "# define the list of int\n",
    "raw_list = list(range(100))"
   ]
  },
  {
   "cell_type": "code",
   "execution_count": 9,
   "metadata": {},
   "outputs": [],
   "source": [
    "# one line with line comprehension\n",
    "prime_list = [x for x in raw_list if (x >= 2 and all(x % np.array(range(2, x))))]"
   ]
  },
  {
   "cell_type": "code",
   "execution_count": 10,
   "metadata": {},
   "outputs": [
    {
     "data": {
      "text/plain": [
       "True"
      ]
     },
     "execution_count": 10,
     "metadata": {},
     "output_type": "execute_result"
    }
   ],
   "source": [
    "prime_list == [2, 3, 5, 7, 11, 13, 17, 19, 23, 29, 31, 37, 41, 43, 47, 53, 59, 61, 67, 71, 73, 79, 83, 89, 97]"
   ]
  },
  {
   "cell_type": "markdown",
   "metadata": {},
   "source": [
    "## 1.5 self-defined Vector class"
   ]
  },
  {
   "cell_type": "code",
   "execution_count": 11,
   "metadata": {},
   "outputs": [],
   "source": [
    "class Vector:\n",
    "    def __init__(self, *nums):\n",
    "        '''ctor function'''\n",
    "        self.data = nums\n",
    "        self.data = np.array(self.data)\n",
    "        self.size = len(self.data)\n",
    "    \n",
    "    def __str__(self):\n",
    "        return f\"Vector:{tuple(self.data[0])}\"\n",
    "    \n",
    "    def __getitem__(self, item):\n",
    "        # getter function, also support slicing\n",
    "        if isinstance(item, slice):\n",
    "            if item.start < 0 or item.stop >= self.size:\n",
    "                print('access failed: index out of range!')\n",
    "            else:\n",
    "                return Vector(self.data[item.start:item.stop])\n",
    "        else:\n",
    "            if (item >= self.size):\n",
    "                print('access failed: index out of range!')\n",
    "            else:\n",
    "                return self.data[item]\n",
    "        \n",
    "    def __len__(self):\n",
    "        '''getting the length of the Vector'''\n",
    "        return self.size\n",
    "    \n",
    "    def __pow__(self, power):\n",
    "        return Vector(self.data ** power)"
   ]
  },
  {
   "cell_type": "code",
   "execution_count": 12,
   "metadata": {},
   "outputs": [
    {
     "name": "stdout",
     "output_type": "stream",
     "text": [
      "access failed: index out of range!\n",
      "Vector:(4, 5, 6, 7)\n",
      "length: 9\n",
      "Vector:(1, 4, 9, 16, 25, 36, 49, 64, 81)\n"
     ]
    }
   ],
   "source": [
    "# construct a Vector\n",
    "test_vec = Vector(1, 2, 3, 4, 5, 6, 7, 8, 9)\n",
    "\n",
    "# getter function, invalid: index out of range!\n",
    "test_vec[100]\n",
    "\n",
    "# slicing function, valid\n",
    "print(test_vec[3:7])\n",
    "\n",
    "# get the length of the vector\n",
    "print('length:', len(test_vec))\n",
    "\n",
    "# power of the vector\n",
    "print(test_vec ** 2)"
   ]
  },
  {
   "cell_type": "markdown",
   "metadata": {},
   "source": [
    "## 1.6 Case-insensitive dictionary"
   ]
  },
  {
   "cell_type": "code",
   "execution_count": 13,
   "metadata": {},
   "outputs": [],
   "source": [
    "class CaseInsensitiveDict(dict):\n",
    "    '''case insensitive dictionary\n",
    "    as we want to store the original key, so extra operations need to be done\n",
    "    when we try to get the value for a certain key'''\n",
    "    def __init__ (self, data = {}, **kw):\n",
    "        self.update(data)\n",
    "        self.update(kw)\n",
    "        \n",
    "    def __getitem__(self, key):\n",
    "        insent_key = key.lower()\n",
    "        for self_key in self.keys():\n",
    "            if self_key.lower() == insent_key:\n",
    "                return self.get(self_key)\n",
    "        else:\n",
    "            print('access failed, key not found in the dictionary')\n",
    "    \n",
    "    def __setitem__(self, key, value):\n",
    "        # store the original key\n",
    "        store_key = key\n",
    "        insent_key = key.lower()\n",
    "        for self_key in self.keys():\n",
    "            if self_key.lower() == insent_key:\n",
    "                # get the original form of the key\n",
    "                store_key = self_key\n",
    "        self.update({store_key: value})"
   ]
  },
  {
   "cell_type": "code",
   "execution_count": 14,
   "metadata": {},
   "outputs": [
    {
     "name": "stdout",
     "output_type": "stream",
     "text": [
      "{'Pen': 'tool', 'ApplE': 'fruit'}\n",
      "{'Pen': 'tool', 'ApplE': 'company'}\n",
      "access failed, key not found in the dictionary\n",
      "try to access new element without setting: None\n"
     ]
    }
   ],
   "source": [
    "# build the insensitive dictionary with init key\n",
    "test_dict = CaseInsensitiveDict(Pen = 'tool')\n",
    "\n",
    "# update the dict, new key-value\n",
    "test_dict['ApplE'] = 'fruit'\n",
    "print(test_dict)\n",
    "\n",
    "# update the dict, different case, change the value of the key\n",
    "test_dict['APPLE'] = 'company'\n",
    "print(test_dict)\n",
    "\n",
    "# failed access, key that doesn't exist\n",
    "print('try to access new element without setting:', test_dict['some new thing'])"
   ]
  },
  {
   "cell_type": "code",
   "execution_count": null,
   "metadata": {},
   "outputs": [],
   "source": []
  },
  {
   "cell_type": "code",
   "execution_count": null,
   "metadata": {},
   "outputs": [],
   "source": []
  }
 ],
 "metadata": {
  "kernelspec": {
   "display_name": "Python 3",
   "language": "python",
   "name": "python3"
  },
  "language_info": {
   "codemirror_mode": {
    "name": "ipython",
    "version": 3
   },
   "file_extension": ".py",
   "mimetype": "text/x-python",
   "name": "python",
   "nbconvert_exporter": "python",
   "pygments_lexer": "ipython3",
   "version": "3.7.6"
  }
 },
 "nbformat": 4,
 "nbformat_minor": 4
}
