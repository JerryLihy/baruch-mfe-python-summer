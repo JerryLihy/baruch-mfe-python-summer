{
 "cells": [
  {
   "cell_type": "markdown",
   "metadata": {},
   "source": [
    "### Question 1 Algorithmic questions"
   ]
  },
  {
   "cell_type": "markdown",
   "metadata": {},
   "source": [
    "Find the kth largest element in an unsorted array. Note that it is the kth largest element in the sorted order, not the kth distinct element."
   ]
  },
  {
   "cell_type": "code",
   "execution_count": 1,
   "metadata": {},
   "outputs": [],
   "source": [
    "import heapq"
   ]
  },
  {
   "cell_type": "code",
   "execution_count": 2,
   "metadata": {},
   "outputs": [],
   "source": [
    "def FindKth(nums, k):\n",
    "    '''\n",
    "    Find the kth largest element in an unsorted array\n",
    "    '''\n",
    "    length = len(nums)\n",
    "    \n",
    "    # handle edge situation\n",
    "    if length == 0 or k == 0 or length < k:\n",
    "        print('invalid search')\n",
    "        return None\n",
    "    \n",
    "    # build heap\n",
    "    heapq.heapify(nums)\n",
    "    \n",
    "    # find the Kth largest value\n",
    "    i = 0\n",
    "    Kth = 0\n",
    "    while i < length - k + 1:\n",
    "        Kth = heapq.heappop(nums)\n",
    "        i += 1\n",
    "    return Kth"
   ]
  },
  {
   "cell_type": "markdown",
   "metadata": {},
   "source": [
    "### Test Example"
   ]
  },
  {
   "cell_type": "markdown",
   "metadata": {},
   "source": [
    "simple test"
   ]
  },
  {
   "cell_type": "code",
   "execution_count": 3,
   "metadata": {},
   "outputs": [
    {
     "name": "stdout",
     "output_type": "stream",
     "text": [
      "test for simple example:  5\n"
     ]
    }
   ],
   "source": [
    "input_1 = [3,2,1,5,6,4]\n",
    "K_1 = 2\n",
    "print('test for simple example: ', FindKth(input_1, K_1))"
   ]
  },
  {
   "cell_type": "markdown",
   "metadata": {},
   "source": [
    "empty list"
   ]
  },
  {
   "cell_type": "code",
   "execution_count": 4,
   "metadata": {},
   "outputs": [
    {
     "name": "stdout",
     "output_type": "stream",
     "text": [
      "invalid search\n",
      "test for empty list example:  None\n"
     ]
    }
   ],
   "source": [
    "input_2 = []\n",
    "K_2 = 1\n",
    "print('test for empty list example: ', FindKth(input_2, K_2))"
   ]
  },
  {
   "cell_type": "markdown",
   "metadata": {},
   "source": [
    "K = 0"
   ]
  },
  {
   "cell_type": "code",
   "execution_count": 5,
   "metadata": {},
   "outputs": [
    {
     "name": "stdout",
     "output_type": "stream",
     "text": [
      "invalid search\n",
      "test for K = 0 example:  None\n"
     ]
    }
   ],
   "source": [
    "input_3 = [4,2,1,5,6,4]\n",
    "K_3 = 0\n",
    "print('test for K = 0 example: ', FindKth(input_3, K_3))"
   ]
  },
  {
   "cell_type": "markdown",
   "metadata": {},
   "source": [
    "K larger than length of the list"
   ]
  },
  {
   "cell_type": "code",
   "execution_count": 6,
   "metadata": {},
   "outputs": [
    {
     "name": "stdout",
     "output_type": "stream",
     "text": [
      "invalid search\n",
      "test for K larger than length of the list example:  None\n"
     ]
    }
   ],
   "source": [
    "input_4 = [4,2,1,5,6,4]\n",
    "K_4 = 20\n",
    "print('test for K larger than length of the list example: ', FindKth(input_4, K_4))"
   ]
  },
  {
   "cell_type": "markdown",
   "metadata": {},
   "source": [
    "duplicate element"
   ]
  },
  {
   "cell_type": "code",
   "execution_count": 7,
   "metadata": {
    "scrolled": true
   },
   "outputs": [
    {
     "name": "stdout",
     "output_type": "stream",
     "text": [
      "test for duplicate element example:  1\n"
     ]
    }
   ],
   "source": [
    "input_5 = [1, 1, 1, 1, 2, 2, 2, 2]\n",
    "K_5 = 5\n",
    "print('test for duplicate element example: ', FindKth(input_5, K_5))"
   ]
  },
  {
   "cell_type": "markdown",
   "metadata": {},
   "source": [
    "sorted list"
   ]
  },
  {
   "cell_type": "code",
   "execution_count": 8,
   "metadata": {},
   "outputs": [
    {
     "name": "stdout",
     "output_type": "stream",
     "text": [
      "test for sorted list example:  5\n"
     ]
    }
   ],
   "source": [
    "input_6 = [1, 2, 3, 4, 5, 6, 7, 8, 9]\n",
    "K_6 = 5\n",
    "print('test for sorted list example: ', FindKth(input_6, K_6))"
   ]
  },
  {
   "cell_type": "markdown",
   "metadata": {},
   "source": [
    "unsorted list"
   ]
  },
  {
   "cell_type": "code",
   "execution_count": 9,
   "metadata": {},
   "outputs": [
    {
     "name": "stdout",
     "output_type": "stream",
     "text": [
      "test for unsorted list example:  4\n"
     ]
    }
   ],
   "source": [
    "input_7 = [9, 8, 7, 6, 5, 4, 3, 2, 1]\n",
    "K_7 = 6\n",
    "print('test for unsorted list example: ', FindKth(input_7, K_7))"
   ]
  },
  {
   "cell_type": "markdown",
   "metadata": {},
   "source": [
    "### time complexity:"
   ]
  },
  {
   "cell_type": "markdown",
   "metadata": {},
   "source": [
    "python heapify - O(n)\n",
    "find Kth: loop * heappop - k * O(logn)\n",
    "\n",
    "in all, it should be O(n)"
   ]
  },
  {
   "cell_type": "markdown",
   "metadata": {},
   "source": [
    "### Question 2 Multithreading pop."
   ]
  },
  {
   "cell_type": "code",
   "execution_count": 10,
   "metadata": {},
   "outputs": [],
   "source": [
    "import queue\n",
    "import threading\n",
    "import time"
   ]
  },
  {
   "cell_type": "code",
   "execution_count": 11,
   "metadata": {},
   "outputs": [],
   "source": [
    "def generate_queue(n):\n",
    "    '''\n",
    "    generate quene with length n\n",
    "    '''\n",
    "    res = queue.Queue(n)\n",
    "    for i in range(n):\n",
    "        res.put(i)\n",
    "    return res"
   ]
  },
  {
   "cell_type": "code",
   "execution_count": 12,
   "metadata": {},
   "outputs": [],
   "source": [
    "def test_pop(q):\n",
    "    '''\n",
    "    pop the element in queue\n",
    "    thread function\n",
    "    '''\n",
    "    while q.empty() == False:\n",
    "        pop_elem = q.get()\n",
    "        if pop_elem % 500 == 0:\n",
    "            print(pop_elem)\n",
    "    return\n",
    "\n",
    "def test_multi_pop(q, thread_num):\n",
    "    '''\n",
    "    multi-thread pop\n",
    "    '''\n",
    "    # build the thread list\n",
    "    threads = []\n",
    "    for i in range(thread_num):\n",
    "        thread = threading.Thread(target = test_pop, args = (q, ))\n",
    "        threads.append(thread)\n",
    "        thread.start()\n",
    "    for thread in threads:\n",
    "        thread.join()"
   ]
  },
  {
   "cell_type": "code",
   "execution_count": 13,
   "metadata": {},
   "outputs": [
    {
     "name": "stdout",
     "output_type": "stream",
     "text": [
      "0\n",
      "500\n",
      "1000\n",
      "1500\n",
      "2000\n",
      "2500\n",
      "3000\n",
      "3500\n",
      "4000\n",
      "4500\n",
      "5000\n",
      "5500\n",
      "6000\n",
      "6500\n",
      "7000\n",
      "7500\n",
      "8000\n",
      "8500\n",
      "9000\n",
      "9500\n",
      "Wall time: 48.9 ms\n"
     ]
    }
   ],
   "source": [
    "%%time\n",
    "test_multi_pop(generate_queue(10000), 1)"
   ]
  },
  {
   "cell_type": "code",
   "execution_count": 14,
   "metadata": {},
   "outputs": [
    {
     "name": "stdout",
     "output_type": "stream",
     "text": [
      "0\n",
      "500\n",
      "1000\n",
      "1500\n",
      "2000\n",
      "2500\n",
      "3000\n",
      "3500\n",
      "4000\n",
      "4500\n",
      "5000\n",
      "5500\n",
      "6000\n",
      "6500\n",
      "7000\n",
      "7500\n",
      "8000\n",
      "8500\n",
      "9000\n",
      "9500\n",
      "Wall time: 50.8 ms\n"
     ]
    }
   ],
   "source": [
    "%%time\n",
    "test_multi_pop(generate_queue(10000), 5)"
   ]
  },
  {
   "cell_type": "code",
   "execution_count": 15,
   "metadata": {},
   "outputs": [
    {
     "name": "stdout",
     "output_type": "stream",
     "text": [
      "0\n",
      "500\n",
      "1000\n",
      "1500\n",
      "2000\n",
      "2500\n",
      "3000\n",
      "3500\n",
      "4000\n",
      "4500\n",
      "5000\n",
      "5500\n",
      "6000\n",
      "6500\n",
      "7000\n",
      "7500\n",
      "8000\n",
      "8500\n",
      "9000\n",
      "9500\n",
      "Wall time: 52.9 ms\n"
     ]
    }
   ],
   "source": [
    "%%time\n",
    "test_multi_pop(generate_queue(10000), 20)"
   ]
  },
  {
   "cell_type": "markdown",
   "metadata": {},
   "source": [
    "the time cost is close for using 1 thread, 5 threads and 20 threads, the reason is that in python, GIL limits one thread to run at a time."
   ]
  }
 ],
 "metadata": {
  "kernelspec": {
   "display_name": "Python 3",
   "language": "python",
   "name": "python3"
  },
  "language_info": {
   "codemirror_mode": {
    "name": "ipython",
    "version": 3
   },
   "file_extension": ".py",
   "mimetype": "text/x-python",
   "name": "python",
   "nbconvert_exporter": "python",
   "pygments_lexer": "ipython3",
   "version": "3.7.3"
  }
 },
 "nbformat": 4,
 "nbformat_minor": 2
}
