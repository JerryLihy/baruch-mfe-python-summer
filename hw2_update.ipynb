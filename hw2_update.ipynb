{
 "cells": [
  {
   "cell_type": "markdown",
   "metadata": {},
   "source": [
    "## Merge sorted stream"
   ]
  },
  {
   "cell_type": "markdown",
   "metadata": {},
   "source": [
    "Write a generator function that takes two sorted streams (generators), and return a generator that can produce a merged stream in sorted order."
   ]
  },
  {
   "cell_type": "code",
   "execution_count": 1,
   "metadata": {},
   "outputs": [],
   "source": [
    "def merge_sorted_stream(*stream):\n",
    "    '''\n",
    "    merge_sort generator\n",
    "    input: generators that are already sorted\n",
    "    '''\n",
    "    stream = [iter(s) for s in stream]\n",
    "    \n",
    "    # maintain a candidate list which records all the min val in each generator\n",
    "    candidate_list = []\n",
    "    # init the candidate list\n",
    "    for i in range(len(stream)):\n",
    "        try:\n",
    "            candidate_min_val = next(stream[i])\n",
    "            candidate_list.append(candidate_min_val)\n",
    "        except:\n",
    "            # handle the empty list at the beginning\n",
    "            candidate_list.append(float(\"inf\"))\n",
    "            continue\n",
    "    \n",
    "    # generate number and maintain the candidate list\n",
    "    # when a stream becomes empty, we push float(\"inf\") so that they will never been seen as a candidate\n",
    "    while True:\n",
    "        min_val = min(candidate_list)\n",
    "        if min_val == float(\"inf\"):\n",
    "            break\n",
    "        min_index = candidate_list.index(min_val)\n",
    "        try:\n",
    "            candidate_list[min_index] = next(stream[min_index])\n",
    "        except:\n",
    "            candidate_list[min_index] = float(\"inf\")\n",
    "        yield min_val"
   ]
  },
  {
   "cell_type": "code",
   "execution_count": 2,
   "metadata": {},
   "outputs": [
    {
     "name": "stdout",
     "output_type": "stream",
     "text": [
      "0\n",
      "0\n",
      "1\n",
      "2\n",
      "2\n",
      "3\n",
      "4\n",
      "4\n",
      "5\n",
      "6\n",
      "6\n",
      "7\n",
      "8\n",
      "8\n",
      "9\n",
      "100\n",
      "101\n",
      "102\n",
      "103\n",
      "104\n",
      "105\n",
      "106\n",
      "107\n",
      "108\n",
      "109\n"
     ]
    }
   ],
   "source": [
    "stream1 = range(0, 10, 2)\n",
    "stream2 = range(1, 10, 2)\n",
    "stream3 = range(0, 10, 2) # generate same value\n",
    "stream4 = range(100, 110, 1) # large value\n",
    "stream5 = range(210, 200, 1000) # empty generator\n",
    "\n",
    "for x in merge_sorted_stream(stream1, stream2, stream3, stream4, stream5):\n",
    "    print(x)"
   ]
  },
  {
   "cell_type": "markdown",
   "metadata": {},
   "source": [
    "## Tree traversal"
   ]
  },
  {
   "cell_type": "markdown",
   "metadata": {},
   "source": [
    "Define a Tree class with a method that can walk through the tree in different orders. Hint: use generator will make your life a lot easier."
   ]
  },
  {
   "cell_type": "code",
   "execution_count": 3,
   "metadata": {},
   "outputs": [],
   "source": [
    "class TreeNode:\n",
    "    '''\n",
    "    TreeNode class\n",
    "    data member: val, left and right\n",
    "    support in order, pre order and post order access\n",
    "    '''\n",
    "    def __init__(self, info):\n",
    "        self.root = info\n",
    "        self.left = None\n",
    "        self.right = None\n",
    "\n",
    "    def in_order(self):\n",
    "        '''in_order traverse'''\n",
    "        if self.left:\n",
    "            yield from self.left.in_order()\n",
    "        yield str(self.root)\n",
    "        if self.right:\n",
    "            yield from self.right.in_order()\n",
    "\n",
    "    def pre_order(self):\n",
    "        '''pre_order traverse'''\n",
    "        yield str(self.root)\n",
    "        if self.left:\n",
    "            yield from self.left.pre_order()\n",
    "        if self.right:\n",
    "            yield from self.right.pre_order()\n",
    "\n",
    "    def post_order(self):\n",
    "        '''post_order traverse'''\n",
    "        if self.left:\n",
    "            yield from self.left.post_order()\n",
    "        if self.right:\n",
    "            yield from self.right.post_order()\n",
    "        yield str(self.root)"
   ]
  },
  {
   "cell_type": "code",
   "execution_count": 4,
   "metadata": {},
   "outputs": [],
   "source": [
    "root = TreeNode(1)\n",
    "root.left = TreeNode(2)\n",
    "root.right = TreeNode(3)\n",
    "root.left.left = TreeNode(4)\n",
    "root.left.right = TreeNode(5)"
   ]
  },
  {
   "cell_type": "code",
   "execution_count": 5,
   "metadata": {},
   "outputs": [
    {
     "name": "stdout",
     "output_type": "stream",
     "text": [
      "4 -> 2 -> 5 -> 1 -> 3\n",
      "1 -> 2 -> 4 -> 5 -> 3\n",
      "4 -> 5 -> 2 -> 3 -> 1\n"
     ]
    }
   ],
   "source": [
    "print(' -> '.join(item for item in root.in_order()))\n",
    "print(' -> '.join(item for item in root.pre_order()))\n",
    "print(' -> '.join(item for item in root.post_order()))"
   ]
  },
  {
   "cell_type": "markdown",
   "metadata": {},
   "source": [
    "## Implement a timer"
   ]
  },
  {
   "cell_type": "markdown",
   "metadata": {},
   "source": [
    "Implement a timer that can print the execution time of your code. Try to implement it both as a decorator and as a context manager to compare the implementations. Can you implement it using one single class?"
   ]
  },
  {
   "cell_type": "code",
   "execution_count": 6,
   "metadata": {},
   "outputs": [],
   "source": [
    "from contextlib import ContextDecorator"
   ]
  },
  {
   "cell_type": "code",
   "execution_count": 7,
   "metadata": {},
   "outputs": [],
   "source": [
    "class timer(ContextDecorator):\n",
    "    '''count the running time'''\n",
    "    def __enter__(self):\n",
    "        # start the clock\n",
    "        import time\n",
    "        self.start_time = time.time()\n",
    "        return self\n",
    "    \n",
    "    def __exit__(self, *args):\n",
    "        # stop the clock and calculate the running time\n",
    "        import time\n",
    "        print(f\"--- {time.time() - self.start_time} seconds ---\")"
   ]
  },
  {
   "cell_type": "code",
   "execution_count": 8,
   "metadata": {},
   "outputs": [
    {
     "name": "stdout",
     "output_type": "stream",
     "text": [
      "--- 3.0061471462249756 seconds ---\n",
      "--- 3.0090584754943848 seconds ---\n"
     ]
    }
   ],
   "source": [
    "import time\n",
    "\n",
    "with timer() as timer:\n",
    "    time.sleep(3)\n",
    "    \n",
    "@timer\n",
    "def sleep(secs):\n",
    "    time.sleep(secs)\n",
    "\n",
    "sleep(3)"
   ]
  }
 ],
 "metadata": {
  "kernelspec": {
   "display_name": "Python 3",
   "language": "python",
   "name": "python3"
  },
  "language_info": {
   "codemirror_mode": {
    "name": "ipython",
    "version": 3
   },
   "file_extension": ".py",
   "mimetype": "text/x-python",
   "name": "python",
   "nbconvert_exporter": "python",
   "pygments_lexer": "ipython3",
   "version": "3.7.6"
  }
 },
 "nbformat": 4,
 "nbformat_minor": 2
}
